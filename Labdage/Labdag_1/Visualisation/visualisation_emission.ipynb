{
 "cells": [
  {
   "cell_type": "code",
   "execution_count": 1,
   "metadata": {},
   "outputs": [],
   "source": [
    "# Standard Libraries\n",
    "\n",
    "\n",
    "import matplotlib.pyplot as plt\n",
    "import matplotlib as mpl\n",
    "import numpy as np\n",
    "import pandas as pd\n",
    "import seaborn as sns"
   ]
  },
  {
   "cell_type": "code",
   "execution_count": 33,
   "metadata": {},
   "outputs": [
    {
     "data": {
      "text/plain": [
       "<matplotlib.rc_context at 0x1ee5d4f5be0>"
      ]
     },
     "execution_count": 33,
     "metadata": {},
     "output_type": "execute_result"
    }
   ],
   "source": [
    "# Plot settings\n",
    "\n",
    "\n",
    "mpl.rc_context({'axes.facecolor': 'black',\n",
    "               'axes.edgecolor': 'white',\n",
    "               'ytick.left': False,\n",
    "               'ytick.right': False,\n",
    "               'ytick.labelsize': 0,\n",
    "               'xtick.top': True,\n",
    "               'xtick.bottom': True,\n",
    "               'xtick.color': 'white',\n",
    "               'xtick.direction': 'in'})"
   ]
  },
  {
   "cell_type": "code",
   "execution_count": 38,
   "metadata": {},
   "outputs": [],
   "source": [
    "# Functions\n",
    "\n",
    "\n",
    "def make_ax(data, x, xlabel = 'x', title = 'Title', figsize = (10, 10), num_subplots = 1):\n",
    "    # Make fig and ax\n",
    "    fig, axs = plt.subplots(num_subplots, 1, figsize=figsize, sharex=True)\n",
    "    \n",
    "    # Remove horizontal space between axes\n",
    "    fig.subplots_adjust(hspace=0)\n",
    "    \n",
    "    # Make black boxes\n",
    "    for i in range(num_subplots):\n",
    "        if i == num_subplots:\n",
    "            axs[i].plot([100,700],[0,0],color='red')\n",
    "            axs[i].xlabel(xlabel)\n",
    "            axs[i].xaxis.label.set_color('black')\n",
    "    \n",
    "    # Return fig and ax\n",
    "    return fig, axs\n",
    "\n",
    "\n",
    "def plot_ax(save = False, filename = 'default.pdf'):\n",
    "    if save:\n",
    "        plt.savefig(filename)\n",
    "    plt.yticks(color='w')\n",
    "    plt.show()\n",
    "\n",
    "\n",
    "def polygon(x1,y1,x2,y2,c):\n",
    "    ax = plt.gca()\n",
    "    polygon = plt.Polygon( [ (x1,y1), (x2,y2), (x2,0), (x1,0) ], color=c, alpha=0.2 )\n",
    "    ax.add_patch(polygon)\n",
    "\n",
    "    \n",
    "def add_sprectrum(ax, X, Y, cmap=plt.get_cmap(\"jet\")):\n",
    "    N  = len(X)\n",
    "\n",
    "    for n, (x, y) in enumerate(zip(X,Y)):\n",
    "        color = cmap((x - 380)/(750 - 380))\n",
    "        if n+1 == N: continue\n",
    "        polygon(x,y,X[n+1],Y[n+1],color)\n",
    "    \n",
    "    return ax"
   ]
  },
  {
   "cell_type": "code",
   "execution_count": 39,
   "metadata": {},
   "outputs": [
    {
     "data": {
      "image/png": "[encoded data removed]",
      "text/plain": [
       "<Figure size 864x576 with 5 Axes>"
      ]
     },
     "metadata": {},
     "output_type": "display_data"
    }
   ],
   "source": [
    "# Plot absorbtion sprectrum data\n",
    "\n",
    "\n",
    "# Load in data\n",
    "df = pd.read_csv('../Cleaned_Data/Absorbtion_data/absorbtion_spectrum_sunlight_data_cleaned.csv')\n",
    "\n",
    "\n",
    "# Make ax and fig for plotting data\n",
    "fig, ax = make_ax(df, x='Wavelength', title='Emission Spectrum',\n",
    "                 figsize=(12,8), xlabel='Wavelength ($nm$)', num_subplots=5)"
   ]
  },
  {
   "cell_type": "code",
   "execution_count": null,
   "metadata": {},
   "outputs": [],
   "source": []
  },
  {
   "cell_type": "code",
   "execution_count": null,
   "metadata": {},
   "outputs": [],
   "source": []
  }
 ],
 "metadata": {
  "kernelspec": {
   "display_name": "Python 3",
   "language": "python",
   "name": "python3"
  },
  "language_info": {
   "codemirror_mode": {
    "name": "ipython",
    "version": 3
   },
   "file_extension": ".py",
   "mimetype": "text/x-python",
   "name": "python",
   "nbconvert_exporter": "python",
   "pygments_lexer": "ipython3",
   "version": "3.8.3"
  }
 },
 "nbformat": 4,
 "nbformat_minor": 4
}
