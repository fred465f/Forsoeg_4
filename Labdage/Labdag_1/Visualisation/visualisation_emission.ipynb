{
 "cells": [
  {
   "cell_type": "code",
   "execution_count": 1,
   "metadata": {},
   "outputs": [],
   "source": [
    "# Standard Libraries\n",
    "\n",
    "\n",
    "import matplotlib.pyplot as plt\n",
    "import matplotlib as mpl\n",
    "import numpy as np\n",
    "import pandas as pd\n",
    "import seaborn as sns"
   ]
  },
  {
   "cell_type": "code",
   "execution_count": 2,
   "metadata": {},
   "outputs": [],
   "source": [
    "# Functions\n",
    "\n",
    "\n",
    "def make_ax(data, x, xlabel = 'x', title = 'Title', figsize = (10, 10), num_subplots = 1):\n",
    "    # Make fig and ax\n",
    "    fig, axs = plt.subplots(num_subplots, 1, figsize=figsize, sharex=True)\n",
    "    \n",
    "    # Remove horizontal space between axes\n",
    "    fig.subplots_adjust(hspace=0.05)\n",
    "    \n",
    "    # Make colormap\n",
    "    cmap = plt.get_cmap(\"jet\")\n",
    "    \n",
    "    # Make black boxes\n",
    "    for i in range(num_subplots):\n",
    "        # Plot settings\n",
    "        axs[i].set_facecolor('black')\n",
    "        axs[i].tick_params(axis='both', direction='in', color='white')\n",
    "        axs[i].tick_params(axis='x', top=True, labelsize=16)\n",
    "        axs[i].tick_params(axis='y', left=False, labelleft=False)\n",
    "        axs[i].set_ylabel(ylabels[i], rotation=0, fontsize=16, labelpad=18)\n",
    "        if i == 0:\n",
    "            axs[i].set_title(title, fontsize=20)\n",
    "        elif i == num_subplots - 1:\n",
    "            axs[i].set_xlabel(xlabel, fontsize=16)\n",
    "            \n",
    "        # Plot data\n",
    "        wavelengths = list(data[names[i]]['Wavelength'])\n",
    "        for wavelength in wavelengths:\n",
    "            color = cmap((wavelength - 380)/(750 - 380))\n",
    "            axs[i].axvline(x=wavelength, color=color)\n",
    "    # Return fig and ax\n",
    "    return fig, axs\n",
    "\n",
    "\n",
    "def plot_ax(save = False, filename = 'default.pdf'):\n",
    "    if save:\n",
    "        plt.savefig(filename)\n",
    "    plt.show()"
   ]
  },
  {
   "cell_type": "code",
   "execution_count": 3,
   "metadata": {},
   "outputs": [],
   "source": [
    "# Variables\n",
    "\n",
    "\n",
    "names = ['Argon1', 'H2_1', 'Mercury1', 'Ne1_nonsat', 'Xe1']\n",
    "ylabels = ['Ar', 'H2', 'Hg', 'Ne', 'Xe']"
   ]
  },
  {
   "cell_type": "code",
   "execution_count": 4,
   "metadata": {},
   "outputs": [
    {
     "data": {
      "image/png": "[encoded data removed]",
      "text/plain": [
       "<Figure size 864x576 with 5 Axes>"
      ]
     },
     "metadata": {
      "needs_background": "light"
     },
     "output_type": "display_data"
    }
   ],
   "source": [
    "# Plot absorbtion sprectrum data\n",
    "\n",
    "\n",
    "# Load in data\n",
    "data = {}\n",
    "for name in names:\n",
    "    df = pd.read_csv(f'../Cleaned_Data/Emission_data/emission_spectrum_{name}_data_cleaned.csv')\n",
    "    data[name] = df\n",
    "\n",
    "\n",
    "# Make ax and fig for plotting data\n",
    "fig, ax = make_ax(data, x='Wavelength', title='Emission Spectrum',\n",
    "                 figsize=(12,8), xlabel='Wavelength ($nm$)', num_subplots=len(names))\n",
    "\n",
    "\n",
    "# Plot and save fig\n",
    "plot_ax(save=True, filename=f'../../../Final_graphs/emission_spectrum_plot.pdf')"
   ]
  },
  {
   "cell_type": "code",
   "execution_count": null,
   "metadata": {},
   "outputs": [],
   "source": []
  }
 ],
 "metadata": {
  "kernelspec": {
   "display_name": "Python 3",
   "language": "python",
   "name": "python3"
  },
  "language_info": {
   "codemirror_mode": {
    "name": "ipython",
    "version": 3
   },
   "file_extension": ".py",
   "mimetype": "text/x-python",
   "name": "python",
   "nbconvert_exporter": "python",
   "pygments_lexer": "ipython3",
   "version": "3.8.3"
  }
 },
 "nbformat": 4,
 "nbformat_minor": 4
}
